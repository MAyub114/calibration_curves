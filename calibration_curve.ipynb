{
 "cells": [
  {
   "cell_type": "markdown",
   "metadata": {},
   "source": [
    "# Calibration curve"
   ]
  },
  {
   "cell_type": "code",
   "execution_count": 16,
   "metadata": {},
   "outputs": [],
   "source": [
    "import numpy as np\n",
    "\n",
    "# Machine Learning\n",
    "from sklearn.datasets import make_classification\n",
    "from sklearn.calibration import calibration_curve\n",
    "from sklearn.ensemble import RandomForestClassifier\n",
    "from sklearn.isotonic import IsotonicRegression\n",
    "from sklearn.linear_model import LogisticRegression\n",
    "\n",
    "# Data visualization\n",
    "import matplotlib.pyplot as plt"
   ]
  },
  {
   "cell_type": "code",
   "execution_count": null,
   "metadata": {},
   "outputs": [],
   "source": [
    "def expected_calibration_error(y, proba, bins='fd'):\n",
    "    "
   ]
  },
  {
   "cell_type": "code",
   "execution_count": 4,
   "metadata": {},
   "outputs": [],
   "source": [
    "# Create dataset\n",
    "X, y = make_classification(\n",
    "    n_samples = 15000,\n",
    "    n_features = 50,\n",
    "    n_informative = 30,\n",
    "    n_redundant = 20,\n",
    "    weights = [0.9, 0.1],\n",
    "    random_state = 0\n",
    ")\n",
    "\n",
    "# Create train, validation, test datasets\n",
    "X_train, X_valid, X_test = X[:5000], X[5000:10000], X[10000:]\n",
    "y_train, y_valid, y_test = y[:5000], y[5000:10000], y[10000:]"
   ]
  },
  {
   "cell_type": "markdown",
   "metadata": {},
   "source": [
    "#### Random Forest Classifier"
   ]
  },
  {
   "cell_type": "code",
   "execution_count": 13,
   "metadata": {},
   "outputs": [
    {
     "name": "stdout",
     "output_type": "stream",
     "text": [
      "Random Forest Classifier classes = [0 1]\n"
     ]
    }
   ],
   "source": [
    "# Train and fit a Random Forest Classifier to our training data\n",
    "forest = RandomForestClassifier().fit(X_train, y_train)\n",
    "\n",
    "print(f\"Random Forest Classifier classes = {forest.classes_}\")\n",
    "\n",
    "# Get the class probabilities for the positive class only (second column) on our validation data\n",
    "proba_valid = forest.predict_proba(X_valid)[:, 1]"
   ]
  },
  {
   "cell_type": "markdown",
   "metadata": {},
   "source": [
    "#### Isotonic Regression"
   ]
  },
  {
   "cell_type": "code",
   "execution_count": 14,
   "metadata": {},
   "outputs": [],
   "source": [
    "# Piece-wise linear model (function must be monotonic) and we fit this to our validation positive class probability\n",
    "iso_reg = IsotonicRegression(y_min = 0,\n",
    "                             y_max = 1,\n",
    "                             out_of_bounds = 'clip').fit(proba_valid, y_valid)\n",
    "\n",
    "# Predict probabilities on test set\n",
    "proba_test_forest_isoreg = iso_reg.predict(forest.predict_proba(X_test)[:, 1])"
   ]
  },
  {
   "cell_type": "markdown",
   "metadata": {},
   "source": [
    "#### Logistic Regression"
   ]
  },
  {
   "cell_type": "code",
   "execution_count": 10,
   "metadata": {},
   "outputs": [
    {
     "data": {
      "text/plain": [
       "array([0, 1])"
      ]
     },
     "execution_count": 10,
     "metadata": {},
     "output_type": "execute_result"
    }
   ],
   "source": [
    "# Fit Logistic regression model to our validation positive class probability\n",
    "log_reg = LogisticRegression().fit(proba_valid.reshape(-1, 1), y_valid)\n",
    "\n",
    "proba_test_forest_logreg = log_reg.predict_proba(forest.predict_proba(X_test)[:, 1].reshape(-1, 1))[:, 1]"
   ]
  },
  {
   "cell_type": "code",
   "execution_count": 9,
   "metadata": {},
   "outputs": [
    {
     "data": {
      "text/plain": [
       "array([[ -0.86181522, -10.16068478,   4.79682908, ...,   3.86521852,\n",
       "         -2.75142771,  -1.15713864],\n",
       "       [  2.84748018,  -0.94559916,  -3.76606529, ...,   0.35651591,\n",
       "        -11.27550557,   0.7618289 ],\n",
       "       [  1.79590375,   6.62760703,   3.46470833, ...,  -4.59172565,\n",
       "         -6.7055294 ,   1.59135773],\n",
       "       ...,\n",
       "       [ -5.52164103,   9.82889974,  -5.55077572, ...,  -6.01953906,\n",
       "          2.58728136,   1.25963628],\n",
       "       [ -5.78350537, -10.0472246 ,  -3.04950453, ...,  -1.6825213 ,\n",
       "         -3.84211095,  -1.37807477],\n",
       "       [ -2.30487826,  -0.9325564 ,  -0.7018942 , ...,  -1.28766483,\n",
       "         16.02023276,   0.63219399]])"
      ]
     },
     "execution_count": 9,
     "metadata": {},
     "output_type": "execute_result"
    }
   ],
   "source": [
    "X_valid"
   ]
  },
  {
   "cell_type": "code",
   "execution_count": null,
   "metadata": {},
   "outputs": [],
   "source": []
  }
 ],
 "metadata": {
  "kernelspec": {
   "display_name": "Python 3",
   "language": "python",
   "name": "python3"
  },
  "language_info": {
   "codemirror_mode": {
    "name": "ipython",
    "version": 3
   },
   "file_extension": ".py",
   "mimetype": "text/x-python",
   "name": "python",
   "nbconvert_exporter": "python",
   "pygments_lexer": "ipython3",
   "version": "3.10.8"
  }
 },
 "nbformat": 4,
 "nbformat_minor": 2
}
