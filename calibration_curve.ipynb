{
 "cells": [
  {
   "cell_type": "markdown",
   "metadata": {},
   "source": [
    "# Calibration curve"
   ]
  },
  {
   "cell_type": "code",
   "execution_count": 1,
   "metadata": {},
   "outputs": [],
   "source": [
    "import numpy as np\n",
    "\n",
    "# Machine Learning\n",
    "from sklearn.datasets import make_classification\n",
    "from sklearn.calibration import calibration_curve\n",
    "from sklearn.ensemble import RandomForestClassifier\n",
    "from sklearn.isotonic import IsotonicRegression\n",
    "from sklearn.linear_model import LogisticRegression\n",
    "\n",
    "# Data visualization\n",
    "import matplotlib.pyplot as plt"
   ]
  },
  {
   "cell_type": "code",
   "execution_count": 9,
   "metadata": {},
   "outputs": [],
   "source": [
    "def expected_calibration_error(y, proba, bins='fd'):\n",
    "    bin_count, bin_edges = np.histogram(proba,\n",
    "                                        bins=bins)\n",
    "    n_bins = len(bin_count)\n",
    "    bin_edges[0] -= 1e-8  # exclude the lft edge\n",
    "    bin_id = np.digitize(proba,\n",
    "                         bin_edges,\n",
    "                         right=True) - 1\n",
    "    bin_ysum = np.bincount(bin_id,\n",
    "                           weights = y,\n",
    "                           minlength = n_bins)\n",
    "    bin_probasum = np.bincount(bin_id,\n",
    "                               weights = proba,\n",
    "                               minlength = n_bins)\n",
    "    bin_ymean = np.divide(bin_ysum,\n",
    "                          bin_count,\n",
    "                          out = np.zeros(n_bins),\n",
    "                          where = bin_count > 0)\n",
    "    bin_probamean = np.divide(bin_probasum,\n",
    "                              bin_count,\n",
    "                              out = np.zeros(n_bins),\n",
    "                              where = bin_count > 0)\n",
    "    ece = np.abs((bin_probamean - bin_ymean) * bin_count).sum() / len(proba)\n",
    "    return ece"
   ]
  },
  {
   "cell_type": "code",
   "execution_count": 3,
   "metadata": {},
   "outputs": [],
   "source": [
    "# Create dataset\n",
    "X, y = make_classification(\n",
    "    n_samples = 15000,\n",
    "    n_features = 50,\n",
    "    n_informative = 30,\n",
    "    n_redundant = 20,\n",
    "    weights = [0.9, 0.1],\n",
    "    random_state = 0\n",
    ")\n",
    "\n",
    "# Create train, validation, test datasets\n",
    "X_train, X_valid, X_test = X[:5000], X[5000:10000], X[10000:]\n",
    "y_train, y_valid, y_test = y[:5000], y[5000:10000], y[10000:]"
   ]
  },
  {
   "cell_type": "markdown",
   "metadata": {},
   "source": [
    "#### Random Forest Classifier"
   ]
  },
  {
   "cell_type": "code",
   "execution_count": 13,
   "metadata": {},
   "outputs": [
    {
     "name": "stdout",
     "output_type": "stream",
     "text": [
      "Random Forest Classifier classes = [0 1]\n"
     ]
    }
   ],
   "source": [
    "# Train and fit a Random Forest Classifier to our training data\n",
    "forest = RandomForestClassifier().fit(X_train, y_train)\n",
    "\n",
    "print(f\"Random Forest Classifier classes = {forest.classes_}\")\n",
    "\n",
    "# Get the class probabilities for the positive class only (second column) on our validation data\n",
    "proba_valid = forest.predict_proba(X_valid)[:, 1]\n",
    "\n",
    "# Predict probabilities on test set\n",
    "proba_test_forest = forest.predict_proba(X_test)[:, 1]"
   ]
  },
  {
   "cell_type": "markdown",
   "metadata": {},
   "source": [
    "#### Isotonic Regression"
   ]
  },
  {
   "cell_type": "code",
   "execution_count": 12,
   "metadata": {},
   "outputs": [],
   "source": [
    "# Piece-wise linear model (function must be monotonic) and we fit this to our validation positive class probability\n",
    "iso_reg = IsotonicRegression(y_min = 0,\n",
    "                             y_max = 1,\n",
    "                             out_of_bounds = 'clip').fit(proba_valid, y_valid)\n",
    "\n",
    "# Predict probabilities on test set\n",
    "proba_test_forest_isoreg = iso_reg.predict(forest.predict_proba(X_test)[:, 1])"
   ]
  },
  {
   "cell_type": "markdown",
   "metadata": {},
   "source": [
    "#### Logistic Regression"
   ]
  },
  {
   "cell_type": "code",
   "execution_count": 7,
   "metadata": {},
   "outputs": [],
   "source": [
    "# Fit Logistic regression model to our validation positive class probability\n",
    "log_reg = LogisticRegression().fit(proba_valid.reshape(-1, 1), y_valid)\n",
    "\n",
    "proba_test_forest_logreg = log_reg.predict_proba(forest.predict_proba(X_test)[:, 1].reshape(-1, 1))[:, 1]"
   ]
  },
  {
   "cell_type": "markdown",
   "metadata": {},
   "source": [
    "#### Expected Calibration Error"
   ]
  },
  {
   "cell_type": "code",
   "execution_count": 18,
   "metadata": {},
   "outputs": [
    {
     "name": "stdout",
     "output_type": "stream",
     "text": [
      "Random Forest: Expected Calibration Error = 7.0%\n",
      "Random Forest & Isotonic Regression: Expected Calibration Error = 1.2%\n",
      "Random Forest & Logistic Regression: Expected Calibration Error = 2.2%\n"
     ]
    }
   ],
   "source": [
    "\n",
    "ece_forest = expected_calibration_error(y_test,\n",
    "                                        proba=proba_test_forest,\n",
    "                                        bins='fd')\n",
    "ece_forest_isoreg = expected_calibration_error(y_test,\n",
    "                                               proba=proba_test_forest_isoreg,\n",
    "                                               bins='fd')\n",
    "ece_forest_logreg = expected_calibration_error(y_test,\n",
    "                                               proba=proba_test_forest_logreg,\n",
    "                                               bins='fd')\n",
    "\n",
    "print(f\"Random Forest: Expected Calibration Error = {100*ece_forest:.1f}%\")\n",
    "print(f\"Random Forest & Isotonic Regression: Expected Calibration Error = {100*ece_forest_isoreg:.1f}%\")\n",
    "print(f\"Random Forest & Logistic Regression: Expected Calibration Error = {100*ece_forest_logreg:.1f}%\")"
   ]
  }
 ],
 "metadata": {
  "kernelspec": {
   "display_name": "Python 3",
   "language": "python",
   "name": "python3"
  },
  "language_info": {
   "codemirror_mode": {
    "name": "ipython",
    "version": 3
   },
   "file_extension": ".py",
   "mimetype": "text/x-python",
   "name": "python",
   "nbconvert_exporter": "python",
   "pygments_lexer": "ipython3",
   "version": "3.10.8"
  }
 },
 "nbformat": 4,
 "nbformat_minor": 2
}
